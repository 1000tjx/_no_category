{
 "cells": [
  {
   "cell_type": "code",
   "execution_count": null,
   "metadata": {},
   "outputs": [],
   "source": [
    "from selenium import webdriver\n",
    "from selenium.common.exceptions import NoSuchElementException\n",
    "from selenium.webdriver.chrome.options import Options\n",
    "import time\n",
    "import multiprocessing\n",
    "import numpy as np\n",
    "import pickle"
   ]
  },
  {
   "cell_type": "code",
   "execution_count": null,
   "metadata": {},
   "outputs": [],
   "source": [
    "class TravianManager:\n",
    "    def __init__(self, server):\n",
    "        self.server = server\n",
    "        self.init_driver()\n",
    "        self.is_busy = False\n",
    "    \n",
    "    def init_driver(self):\n",
    "        opts = Options()\n",
    "        opts.add_argument(\"user-agent=Mozilla/5.0 (X11; Linux x86_64) AppleWebKit/537.36 (KHTML, like Gecko) Chrome/86.0.4240.111 Safari/537.36\")\n",
    "        opts.add_argument(\"--start-maximized\")\n",
    "        opts.add_experimental_option(\"excludeSwitches\", ['enable-automation']);\n",
    "        self.driver = webdriver.Chrome(options=opts)\n",
    "    \n",
    "    def login(self, username, password):\n",
    "        self.driver.get(self.server + '/login.php')\n",
    "        time.sleep(2)\n",
    "        self.driver.find_element_by_xpath('//input[@name=\"name\"]').send_keys(username)\n",
    "        self.driver.find_element_by_xpath('//input[@name=\"password\"]').send_keys(password)\n",
    "        self.driver.find_element_by_xpath('//input[@name=\"lowRes\"]').click()\n",
    "        self.driver.find_element_by_xpath('//button[@id=\"s1\"]').click()\n",
    "    \n",
    "    def train(self, troop_type, count, every):\n",
    "        self.train_thread = multiprocessing.Process(target=self.train_troop,args=(troop_type, count, every))\n",
    "        self.train_thread.start()\n",
    "    \n",
    "    def train_troop(self, troop_type, count, every):\n",
    "        while True:\n",
    "            self.driver.get(self.server + '/build.php?gid=19')\n",
    "            time.sleep(3)\n",
    "            self.driver.find_element_by_xpath(f'//input[@class=\"text\"][@name=\"t{troop_type}\"]').send_keys(count)\n",
    "            time.sleep(2)\n",
    "            self.driver.find_element_by_xpath('//button[@name=\"s1\"]').click()\n",
    "            time.sleep(int(every *  60) + np.random.randint(2, 4))\n",
    "    \n",
    "    def start_farm(self, every=60):\n",
    "        while True:\n",
    "            self.driver.get(self.server + '/build.php?gid=16&tt=99')\n",
    "            time.sleep(4)\n",
    "            farms_list = self.driver.find_elements_by_xpath(\"//div[@class='raidListHeadline']\")\n",
    "            for farm in farms_list:\n",
    "                farm.find_element_by_tag_name('form').find_element_by_tag_name('button').click()\n",
    "                time.sleep(2 + np.random.randint(0, 3))\n",
    "            time.sleep(int(60 * every))\n",
    "    \n",
    "    def square_around(self, x, y, fields):\n",
    "        top_right = (x + fields, y + fields)\n",
    "        bottom_left = (x - fields, y - fields)\n",
    "\n",
    "        data = [top_right, bottom_left]\n",
    "\n",
    "        for i in range(1, fields * 2 + 1):\n",
    "            xi, yi = top_right\n",
    "            data.append((xi - i, yi))\n",
    "            data.append((xi, yi - i))\n",
    "\n",
    "        for i in range(1, fields * 2):\n",
    "            xi, yi = bottom_left\n",
    "            data.append((xi + i, yi))\n",
    "            data.append((xi, yi + i))\n",
    "\n",
    "        # data = list(set(data))\n",
    "        return data\n",
    "\n",
    "    def area_around(self, x, y, fields):\n",
    "        data = []\n",
    "        for i in range(1, fields + 1):\n",
    "            data.extend(self.square_around(x, y, i))\n",
    "        return data\n",
    "\n",
    "    def map_url(self, x, y):\n",
    "        return self.server + '/position_details.php?x=%d&y=%d' % (x, y)\n",
    "    \n",
    "    def get_villages_urls_around(self, x, y, fields):\n",
    "        return [(self.map_url(xi, yi), self.dst((x, y), (xi, yi))) for xi, yi in self.area_around(x, y, fields)]\n",
    "    \n",
    "    def dst(self, co1, co2):\n",
    "        return round(((co2[0] - co1[0]) ** 2 + (co2[1] - co1[1]) ** 2) ** 0.5, 1)\n",
    "    \n",
    "    def get_all_players(self, max_pop):\n",
    "        self.driver.get(self.server + '/statistics/player')\n",
    "        \n",
    "    def get_players(self, max_pops, save=True, load=True):\n",
    "        if load:\n",
    "            try:\n",
    "                with open('players.pickle', 'rb') as handle:\n",
    "                    players_list = pickle.load(handle)\n",
    "                    return players_list\n",
    "            except FileNotFoundError:\n",
    "                pass\n",
    "        self.driver.get(self.server + '/statistics/player')\n",
    "        time.sleep(2)\n",
    "        try:\n",
    "            self.driver.find_element_by_xpath(\"//a[@class='last']\").click()\n",
    "        except:\n",
    "            pass\n",
    "        pages = int(tm.driver.current_url.split('=')[-1])\n",
    "        players_list = []\n",
    "        for page in range(pages, 0, -1):\n",
    "            # get all players\n",
    "            players_td = self.driver.find_elements_by_class_name(\"pla\")\n",
    "            pop_td = self.driver.find_elements_by_class_name(\"pop\")\n",
    "            players = zip(players_td, pop_td)\n",
    "            for player_td, player_pops in players:\n",
    "                pops = int(player_pops.text.strip())\n",
    "                if pops <= max_pops:\n",
    "                    ppp = {\n",
    "                        'name': player_td.find_element_by_tag_name('a').text,\n",
    "                        'pop': pops,\n",
    "                        'url': player_td.find_element_by_tag_name('a').get_attribute('href')\n",
    "                    }\n",
    "                    players_list.append(ppp)\n",
    "            try:\n",
    "                if pops > max_pops:\n",
    "                    break\n",
    "            except UnboundLocalError:\n",
    "                print('err23')\n",
    "                pass\n",
    "            time.sleep(1 + np.random.rand())\n",
    "            self.driver.find_element_by_xpath(\"//a[@class='previous']\").click()\n",
    "        for p in players_list:\n",
    "            self.get_player_villages(p)\n",
    "        if(save):\n",
    "            with open('players.pickle', 'wb') as handle:\n",
    "                pickle.dump(players_list, handle, protocol=pickle.HIGHEST_PROTOCOL)\n",
    "        return players_list\n",
    "    \n",
    "    def get_player_villages(self, player):\n",
    "        self.driver.get(player['url'])\n",
    "        time.sleep(1)\n",
    "        table = self.driver.find_element_by_xpath('//table[@id=\"villages\"]')\n",
    "        villages_td = table.find_element_by_tag_name('tbody').find_elements_by_class_name('name')\n",
    "        # print(villages_td.source_code)\n",
    "        villages = []\n",
    "        for td in villages_td:\n",
    "            vill = {\n",
    "                'name': td.find_element_by_tag_name('a').text,\n",
    "                'url': td.find_element_by_tag_name('a').get_attribute('href'),\n",
    "            }\n",
    "            print('Getting village:', vill, '...')\n",
    "            self.driver.get(vill['url'])\n",
    "            x_y_s = self.driver.current_url.split('?')[-1]\n",
    "            vill['x'] = int(x_y_s.split('&')[0].split('=')[-1])\n",
    "            vill['y'] = int(x_y_s.split('&')[1].split('=')[-1])\n",
    "            villages.append(vill)\n",
    "        player['villages'] = villages\n",
    "        time.sleep(1 +  np.random.rand())\n",
    "        \n",
    "    def sort_villages(self, players, co):\n",
    "        villages = []\n",
    "        for p in players:\n",
    "            villages.extend(p['villages'])\n",
    "        for v in villages:\n",
    "            v['dst'] = self.dst(co, (v['x'], v['y']))\n",
    "        return sorted(villages, key=lambda x: x['dst'])\n",
    "    \n",
    "    def send_troops(self, troop_type, long_distance_troops, dst, village, count1=4, count2=2, x=0, y=0, long_dst_threshold=20):\n",
    "        self.driver.get('https://norules.arabics.travian.com/build.php?gid=16&tt=2&newdid=' + village)\n",
    "        time.sleep(3)\n",
    "        ttype = troop_type\n",
    "        troops_count = count1\n",
    "        if dst > long_dst_threshold:\n",
    "            ttype = long_distance_troops\n",
    "            troops_count = count2\n",
    "        self.driver.find_element_by_xpath('//input[@name=\"troops[0][%s]\"]' % (ttype)).send_keys(troops_count)\n",
    "        self.driver.find_element_by_xpath('//input[@name=\"x\"]').send_keys(x)\n",
    "        self.driver.find_element_by_xpath('//input[@name=\"y\"]').send_keys(y)\n",
    "        self.driver.find_element_by_xpath('//input[@name=\"c\" and @value=\"4\"]').click()\n",
    "        self.driver.find_element_by_xpath('//button[@name=\"s1\"]').click()\n",
    "        time.sleep(1)\n",
    "        to_send = int(self.driver.find_element_by_xpath('//input[@name=\"troops[0][%s]\"]' % ttype).get_attribute('value'))\n",
    "        if(to_send == troops_count):   \n",
    "            time.sleep(1)\n",
    "            try:\n",
    "                error = self.driver.find_element_by_xpath('//p[@class=\"error\"]')\n",
    "                # print(\"didn't send attack to (%d|%d)\" % (x, y))\n",
    "                # print(error.text)\n",
    "            except NoSuchElementException:\n",
    "                pass\n",
    "            self.driver.find_element_by_xpath('//button[@id=\"btn_ok\"]').click()\n",
    "            # print('Attack sent to (%d|%d)' % (x, y))\n",
    "        else:\n",
    "            print('Not enough')"
   ]
  },
  {
   "cell_type": "code",
   "execution_count": null,
   "metadata": {},
   "outputs": [],
   "source": [
    "username = 'Test'\n",
    "password = '123123'\n",
    "\n",
    "# tm = TravianManager('https://norules.arabics.travian.com/')\n",
    "tm = TravianManager('https://norules.arabics.travian.com')"
   ]
  },
  {
   "cell_type": "code",
   "execution_count": null,
   "metadata": {},
   "outputs": [],
   "source": [
    "tm.login(username=username, password=password)"
   ]
  },
  {
   "cell_type": "code",
   "execution_count": null,
   "metadata": {
    "scrolled": true
   },
   "outputs": [],
   "source": [
    "player_list = tm.get_players(45, load=True)"
   ]
  },
  {
   "cell_type": "code",
   "execution_count": null,
   "metadata": {},
   "outputs": [],
   "source": [
    "co = (9, -52)"
   ]
  },
  {
   "cell_type": "code",
   "execution_count": null,
   "metadata": {},
   "outputs": [],
   "source": [
    "sorted_villages = tm.sort_villages(player_list, (-110, -28))"
   ]
  },
  {
   "cell_type": "code",
   "execution_count": null,
   "metadata": {},
   "outputs": [],
   "source": [
    "# vill = sorted_villages[0]\n",
    "# tm.send_troops('t3', 't5', dst=vill['dst'], count1=3, count2=2, x=vill['x'], y=vill['y'])"
   ]
  },
  {
   "cell_type": "code",
   "execution_count": null,
   "metadata": {
    "scrolled": true
   },
   "outputs": [],
   "source": [
    "def start_raid():\n",
    "    def raid():\n",
    "        while True:\n",
    "            for co, village, fc, thresh in [[(9, -52), '3344', 120, 30], [(-110, -28), '70507', 30, 0]]:\n",
    "                sorted_villages = tm.sort_villages(player_list, co)[:fc]\n",
    "                tm.login(username=username, password=password)\n",
    "                for (i, vill) in enumerate(sorted_villages):\n",
    "                    print(f'[#{i}] sending to', vill)\n",
    "                    try:\n",
    "                        tm.send_troops('t3', 't5', village=village, dst=vill['dst'], count1=3, count2=2, x=vill['x'], y=vill['y'],\n",
    "                                           long_dst_threshold=thresh)\n",
    "                        time.sleep(2)\n",
    "                    except Exception as e:\n",
    "                        print(e)\n",
    "            print('-------')\n",
    "            print('sleeping')\n",
    "            print('-------')\n",
    "            time.sleep(0.35 * 60 * 60)\n",
    "    process = multiprocessing.Process(target=raid)\n",
    "    process.start()\n",
    "    return process"
   ]
  },
  {
   "cell_type": "code",
   "execution_count": null,
   "metadata": {
    "scrolled": true
   },
   "outputs": [],
   "source": [
    "raid_process = start_raid()\n",
    "# raid_process.terminate()"
   ]
  },
  {
   "cell_type": "code",
   "execution_count": null,
   "metadata": {},
   "outputs": [],
   "source": [
    "# sorted_villages = tm.sort_villages(player_list, (-25, -23))"
   ]
  },
  {
   "cell_type": "code",
   "execution_count": null,
   "metadata": {
    "scrolled": false
   },
   "outputs": [],
   "source": [
    "# for vill in sorted_villages:\n",
    "#     print(\"[x|y](%d|%d)[/x|y] -> fields: %.1f\" % (vill['x'], vill['y'], vill['dst']))"
   ]
  },
  {
   "cell_type": "code",
   "execution_count": null,
   "metadata": {},
   "outputs": [],
   "source": [
    "# outgoing: https://norules.arabics.travian.com/build.php?gid=16&tt=1&filter=2\n",
    "# incomming: https://norules.arabics.travian.com/build.php?gid=16&tt=1&filter=1"
   ]
  }
 ],
 "metadata": {
  "kernelspec": {
   "display_name": "Python 3",
   "language": "python",
   "name": "python3"
  },
  "language_info": {
   "codemirror_mode": {
    "name": "ipython",
    "version": 3
   },
   "file_extension": ".py",
   "mimetype": "text/x-python",
   "name": "python",
   "nbconvert_exporter": "python",
   "pygments_lexer": "ipython3",
   "version": "3.8.6"
  }
 },
 "nbformat": 4,
 "nbformat_minor": 4
}
